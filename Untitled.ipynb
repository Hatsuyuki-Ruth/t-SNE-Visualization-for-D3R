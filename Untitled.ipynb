{
 "cells": [
  {
   "cell_type": "code",
   "execution_count": 38,
   "metadata": {},
   "outputs": [],
   "source": [
    "with open('data/1_meta.tsv', 'r') as f:\n",
    "    txt = f.read()\n",
    "txt = txt.split('\\n')\n",
    "new_txt = txt[0] + '\\n'\n",
    "for i in range(1, 1201):\n",
    "    if i - 1 in range(100, 200) or (i - 1) % 100 < 10: new_txt += txt[i] + '\\n'\n",
    "with open('data/1s_meta.tsv', 'w') as f:\n",
    "    f.write(new_txt)"
   ]
  },
  {
   "cell_type": "code",
   "execution_count": 39,
   "metadata": {},
   "outputs": [],
   "source": [
    "with open('data/1_emb.tsv', 'r') as f:\n",
    "    txt = f.read()\n",
    "txt = txt.split('\\n')\n",
    "new_txt = ''\n",
    "for i in range(1200):\n",
    "    if i in range(100, 200) or i % 100 < 10: new_txt += txt[i] + '\\n'\n",
    "with open('data/1s_emb.tsv', 'w') as f:\n",
    "    f.write(new_txt)"
   ]
  },
  {
   "cell_type": "code",
   "execution_count": 34,
   "metadata": {},
   "outputs": [],
   "source": []
  },
  {
   "cell_type": "code",
   "execution_count": 35,
   "metadata": {},
   "outputs": [
    {
     "name": "stdout",
     "output_type": "stream",
     "text": [
      "651\n"
     ]
    }
   ],
   "source": [
    "print(new_txt.count('\\n'))"
   ]
  },
  {
   "cell_type": "code",
   "execution_count": 36,
   "metadata": {},
   "outputs": [
    {
     "name": "stdout",
     "output_type": "stream",
     "text": [
      "652\n"
     ]
    }
   ],
   "source": [
    "n = new_txt.split('\\n')\n",
    "print(len(n))"
   ]
  },
  {
   "cell_type": "code",
   "execution_count": 37,
   "metadata": {},
   "outputs": [],
   "source": [
    "with open('data/1_s_meta.tsv', 'w') as f:\n",
    "    f.write(new_txt)"
   ]
  },
  {
   "cell_type": "code",
   "execution_count": null,
   "metadata": {},
   "outputs": [],
   "source": []
  }
 ],
 "metadata": {
  "kernelspec": {
   "display_name": "Python 3",
   "language": "python",
   "name": "python3"
  },
  "language_info": {
   "codemirror_mode": {
    "name": "ipython",
    "version": 3
   },
   "file_extension": ".py",
   "mimetype": "text/x-python",
   "name": "python",
   "nbconvert_exporter": "python",
   "pygments_lexer": "ipython3",
   "version": "3.7.0"
  }
 },
 "nbformat": 4,
 "nbformat_minor": 2
}
